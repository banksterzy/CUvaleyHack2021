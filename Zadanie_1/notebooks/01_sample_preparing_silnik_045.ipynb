{
 "cells": [
  {
   "cell_type": "markdown",
   "metadata": {},
   "source": [
    "# Silnik\n",
    "\n",
    "- WOS 175/L SILNIK WYSOKOPRĘŻNY QSB6,7-C240 CUMMINS praca od 21.05.2019 do 11.02.2021,\n",
    "- LK3 045/L SILNIK TCD2013L062V praca od 21.05.2019 do 04.03.2021,\n",
    "- LK3 050/L SILNIK TCD2013L062V praca od 11.09.2019 do 19.05.2020,"
   ]
  },
  {
   "cell_type": "code",
   "execution_count": 1,
   "metadata": {},
   "outputs": [],
   "source": [
    "import pandas as pd\n",
    "\n",
    "import datetime\n",
    "import pyarrow"
   ]
  },
  {
   "cell_type": "markdown",
   "metadata": {},
   "source": [
    "## SILNIK 045/L"
   ]
  },
  {
   "cell_type": "code",
   "execution_count": 2,
   "metadata": {},
   "outputs": [
    {
     "data": {
      "text/html": [
       "<div>\n",
       "<style scoped>\n",
       "    .dataframe tbody tr th:only-of-type {\n",
       "        vertical-align: middle;\n",
       "    }\n",
       "\n",
       "    .dataframe tbody tr th {\n",
       "        vertical-align: top;\n",
       "    }\n",
       "\n",
       "    .dataframe thead th {\n",
       "        text-align: right;\n",
       "    }\n",
       "</style>\n",
       "<table border=\"1\" class=\"dataframe\">\n",
       "  <thead>\n",
       "    <tr style=\"text-align: right;\">\n",
       "      <th></th>\n",
       "      <th>maszyna</th>\n",
       "      <th>data</th>\n",
       "      <th>czas</th>\n",
       "      <th>engoilp</th>\n",
       "      <th>enghours</th>\n",
       "      <th>fuelus</th>\n",
       "      <th>intakep</th>\n",
       "      <th>intaket</th>\n",
       "      <th>trnlup</th>\n",
       "      <th>groilp</th>\n",
       "      <th>...</th>\n",
       "      <th>breakp</th>\n",
       "      <th>hyddrv</th>\n",
       "      <th>trnaut</th>\n",
       "      <th>hydoilt</th>\n",
       "      <th>hydoilp</th>\n",
       "      <th>tempin</th>\n",
       "      <th>engrpm</th>\n",
       "      <th>engcoolt</th>\n",
       "      <th>engtps</th>\n",
       "      <th>trnbps</th>\n",
       "    </tr>\n",
       "  </thead>\n",
       "  <tbody>\n",
       "    <tr>\n",
       "      <th>0</th>\n",
       "      <td>KLDSMG_WOS___175L</td>\n",
       "      <td>2021/01/01</td>\n",
       "      <td>00:00:00.000</td>\n",
       "      <td>NaN</td>\n",
       "      <td>NaN</td>\n",
       "      <td>NaN</td>\n",
       "      <td>NaN</td>\n",
       "      <td>NaN</td>\n",
       "      <td>NaN</td>\n",
       "      <td>NaN</td>\n",
       "      <td>...</td>\n",
       "      <td>NaN</td>\n",
       "      <td>NaN</td>\n",
       "      <td>NaN</td>\n",
       "      <td>NaN</td>\n",
       "      <td>NaN</td>\n",
       "      <td>NaN</td>\n",
       "      <td>NaN</td>\n",
       "      <td>NaN</td>\n",
       "      <td>NaN</td>\n",
       "      <td>NaN</td>\n",
       "    </tr>\n",
       "    <tr>\n",
       "      <th>1</th>\n",
       "      <td>KLDSMG_WOS___175L</td>\n",
       "      <td>2021/01/01</td>\n",
       "      <td>01:00:00.000</td>\n",
       "      <td>NaN</td>\n",
       "      <td>NaN</td>\n",
       "      <td>NaN</td>\n",
       "      <td>NaN</td>\n",
       "      <td>NaN</td>\n",
       "      <td>NaN</td>\n",
       "      <td>NaN</td>\n",
       "      <td>...</td>\n",
       "      <td>NaN</td>\n",
       "      <td>NaN</td>\n",
       "      <td>NaN</td>\n",
       "      <td>NaN</td>\n",
       "      <td>NaN</td>\n",
       "      <td>NaN</td>\n",
       "      <td>NaN</td>\n",
       "      <td>NaN</td>\n",
       "      <td>NaN</td>\n",
       "      <td>NaN</td>\n",
       "    </tr>\n",
       "    <tr>\n",
       "      <th>2</th>\n",
       "      <td>KLDSMG_WOS___175L</td>\n",
       "      <td>2021/01/01</td>\n",
       "      <td>01:00:00.000</td>\n",
       "      <td>NaN</td>\n",
       "      <td>NaN</td>\n",
       "      <td>NaN</td>\n",
       "      <td>NaN</td>\n",
       "      <td>NaN</td>\n",
       "      <td>NaN</td>\n",
       "      <td>NaN</td>\n",
       "      <td>...</td>\n",
       "      <td>NaN</td>\n",
       "      <td>NaN</td>\n",
       "      <td>NaN</td>\n",
       "      <td>NaN</td>\n",
       "      <td>NaN</td>\n",
       "      <td>NaN</td>\n",
       "      <td>NaN</td>\n",
       "      <td>NaN</td>\n",
       "      <td>NaN</td>\n",
       "      <td>NaN</td>\n",
       "    </tr>\n",
       "  </tbody>\n",
       "</table>\n",
       "<p>3 rows × 23 columns</p>\n",
       "</div>"
      ],
      "text/plain": [
       "             maszyna        data          czas  engoilp  enghours  fuelus  \\\n",
       "0  KLDSMG_WOS___175L  2021/01/01  00:00:00.000      NaN       NaN     NaN   \n",
       "1  KLDSMG_WOS___175L  2021/01/01  01:00:00.000      NaN       NaN     NaN   \n",
       "2  KLDSMG_WOS___175L  2021/01/01  01:00:00.000      NaN       NaN     NaN   \n",
       "\n",
       "   intakep  intaket  trnlup  groilp  ...  breakp  hyddrv  trnaut  hydoilt  \\\n",
       "0      NaN      NaN     NaN     NaN  ...     NaN     NaN     NaN      NaN   \n",
       "1      NaN      NaN     NaN     NaN  ...     NaN     NaN     NaN      NaN   \n",
       "2      NaN      NaN     NaN     NaN  ...     NaN     NaN     NaN      NaN   \n",
       "\n",
       "   hydoilp  tempin  engrpm  engcoolt  engtps  trnbps  \n",
       "0      NaN     NaN     NaN       NaN     NaN     NaN  \n",
       "1      NaN     NaN     NaN       NaN     NaN     NaN  \n",
       "2      NaN     NaN     NaN       NaN     NaN     NaN  \n",
       "\n",
       "[3 rows x 23 columns]"
      ]
     },
     "execution_count": 2,
     "metadata": {},
     "output_type": "execute_result"
    }
   ],
   "source": [
    "df = pd.read_parquet('../data/SILNIK_045L_2021_01.parquet', engine='pyarrow')\n",
    "df.head(3)"
   ]
  },
  {
   "cell_type": "code",
   "execution_count": 3,
   "metadata": {},
   "outputs": [],
   "source": [
    "df_wos174 = pd.DataFrame(columns=df.columns)\n",
    "\n",
    "for file_date in ['2021_03','2020_11','2020_12','2021_01','2021_02']:\n",
    "    df_tmp = pd.read_parquet('../data/SILNIK_045L_' + file_date + '.parquet', engine='pyarrow')\n",
    "    df_wos174 = pd.concat([df_wos174, df_tmp], axis=0)"
   ]
  },
  {
   "cell_type": "code",
   "execution_count": 4,
   "metadata": {},
   "outputs": [],
   "source": [
    "df_wos174_copy = df_wos174.copy()"
   ]
  },
  {
   "cell_type": "code",
   "execution_count": 5,
   "metadata": {},
   "outputs": [],
   "source": [
    "df_wos174 = df_wos174_copy.copy()\n",
    "\n",
    "#zmienna wróżka; bo jest narastająca, zatem jak blisko konkretnej daty się psują to jest tu zakodowane info o statusie\n",
    "df_wos174 = df_wos174.drop(columns=['enghours'])\n",
    "\n",
    "#mało wartości\n",
    "df_wos174 = df_wos174.drop(columns=['trnaut'])\n",
    "\n",
    "#cleaning if all values are NaN\n",
    "#https://stackoverflow.com/questions/13413590/how-to-drop-rows-of-pandas-dataframe-whose-value-in-a-certain-column-is-nan\n",
    "df_wos174 = df_wos174.dropna(thresh=len(df_wos174.columns)-3) \n",
    "\n",
    "#datatime column\n",
    "df_wos174['dt'] = pd.to_datetime(df_wos174['data'] + ' ' + df_wos174['czas'])\n",
    "df['data'] = df['data'].astype('datetime64[ns]')\n",
    "\n",
    "#sorting descending by date\n",
    "df_wos174 = df_wos174.sort_values(by=['dt'], ascending = False).reset_index(drop=True)\n",
    "\n",
    "#delete observations after failure\n",
    "df_wos174 = df_wos174[df_wos174['dt']<'2022-03-05']\n",
    "\n",
    "#prepare aggregats\n",
    "df_wos174_1min = df_wos174.resample('1min', on='dt').mean().reset_index().set_index('dt').fillna(method='bfill')\n",
    "df_wos174_1hour = df_wos174.resample('1H', on='dt').mean().reset_index().set_index('dt').fillna(method='bfill')\n",
    "df_wos174_1day = df_wos174.resample('1D', on='dt').mean().reset_index().set_index('dt').fillna(method='bfill')"
   ]
  },
  {
   "cell_type": "code",
   "execution_count": 6,
   "metadata": {},
   "outputs": [],
   "source": [
    "# tworzymy cechy 6h wcześniej, 12h wcześniej 24h wcześniej 48h wcześniej, 7dni wcześniej\n",
    "# i agregaty mean (jak pyknie dodamy min i max)\n",
    "\n",
    "df_tmp_6h = df_wos174_1hour.rolling(6).mean()\n",
    "df_tmp_6h.columns = ['avg6_'+ col for col in list(df_tmp_6h.columns)]\n",
    "\n",
    "df_tmp_12h = df_wos174_1hour.rolling(12).mean()\n",
    "df_tmp_12h.columns = ['avg12_'+ col for col in list(df_tmp_12h.columns)]\n",
    "\n",
    "df_tmp_24h = df_wos174_1hour.rolling(24).mean()\n",
    "df_tmp_24h.columns = ['avg24_'+ col for col in list(df_tmp_24h.columns)]\n",
    "\n",
    "df_tmp_48h = df_wos174_1hour.rolling(48).mean()\n",
    "df_tmp_48h.columns = ['avg48_'+ col for col in list(df_tmp_48h.columns)]\n",
    "\n",
    "df_tmp_168h = df_wos174_1hour.rolling(168).mean()\n",
    "df_tmp_168h.columns = ['avg168_'+ col for col in list(df_tmp_168h.columns)]"
   ]
  },
  {
   "cell_type": "code",
   "execution_count": 7,
   "metadata": {},
   "outputs": [],
   "source": [
    "df_wos174_1hour_hist = pd.concat([df_wos174_1hour, df_tmp_6h, df_tmp_12h, df_tmp_24h, df_tmp_48h, df_tmp_168h],axis=1)"
   ]
  },
  {
   "cell_type": "code",
   "execution_count": 8,
   "metadata": {},
   "outputs": [],
   "source": [
    "df_wos174_1hour_hist = df_wos174_1hour_hist.reset_index()\n",
    "# status good / bad. If 2 weeks before failture then bad else good\n",
    "\n",
    "df_wos174_1hour_hist['status'] = df_wos174_1hour_hist['dt'].apply(lambda x: 0 if x < datetime.datetime(2021,3,5)-datetime.timedelta(days=14) else 1)\n",
    "\n",
    "# buffor - 2 weeks between good and bads\n",
    "df_wos174_1hour_hist['buffor'] = df_wos174_1hour_hist['dt'].apply(lambda x: 1 if x < datetime.datetime(2021,3,5)-datetime.timedelta(days=30) else 0)\n",
    "\n",
    "# not longer then 3 months before failure\n",
    "df_wos174_1hour_hist['notLonger'] = df_wos174_1hour_hist['dt'].apply(lambda x: 0 if x < datetime.datetime(2021,3,5)-datetime.timedelta(days=90) else 1)\n"
   ]
  },
  {
   "cell_type": "code",
   "execution_count": null,
   "metadata": {},
   "outputs": [],
   "source": [
    "df_wos174_1hour_hist_final = pd.concat([df_wos174_1hour_hist[df_wos174_1hour_hist['status']==1],\n",
    "                                        df_wos174_1hour_hist[(df_wos174_1hour_hist['status']==0) & (df_wos174_1hour_hist['buffor']==1) & (df_wos174_1hour_hist['notLonger']==1)]\n",
    "                                       ], axis=0)\n",
    "\n",
    "print(f'shape: {df_wos174_1hour_hist_final.shape}')\n",
    "\n",
    "df_wos174_1hour_hist_final.status.value_counts()"
   ]
  },
  {
   "cell_type": "code",
   "execution_count": null,
   "metadata": {},
   "outputs": [],
   "source": [
    "#df_wos174_1hour_hist_final = df_wos174_1hour_hist_final.drop(columns=['index']).iloc[:,1:-2].reset_index(drop=True)\n",
    "df_wos174_1hour_hist_final = df_wos174_1hour_hist_final.iloc[:,1:-2].reset_index(drop=True)\n",
    "df_wos174_1hour_hist_final.head(3)"
   ]
  },
  {
   "cell_type": "code",
   "execution_count": null,
   "metadata": {},
   "outputs": [],
   "source": [
    "df_wos174_1hour_hist_final.to_csv('../data/df_silnik175.csv', sep=\"|\", index=False)"
   ]
  },
  {
   "cell_type": "code",
   "execution_count": null,
   "metadata": {},
   "outputs": [],
   "source": []
  }
 ],
 "metadata": {
  "kernelspec": {
   "display_name": "Python 3",
   "language": "python",
   "name": "python3"
  },
  "language_info": {
   "codemirror_mode": {
    "name": "ipython",
    "version": 3
   },
   "file_extension": ".py",
   "mimetype": "text/x-python",
   "name": "python",
   "nbconvert_exporter": "python",
   "pygments_lexer": "ipython3",
   "version": "3.7.4"
  }
 },
 "nbformat": 4,
 "nbformat_minor": 4
}
